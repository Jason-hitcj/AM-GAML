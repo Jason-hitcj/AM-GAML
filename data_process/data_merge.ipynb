{
 "cells": [
  {
   "cell_type": "markdown",
   "id": "c2f3018d",
   "metadata": {},
   "source": [
    "# 合并新的标签数据集\n",
    "\n",
    "## 功能说明\n",
    "- **原始数据集**: `a_marked.csv` (包含所有数据)\n",
    "- **异常数据集**: `副本筛选后数据（带标记规则代码）.csv` (只包含异常数据)\n",
    "- **逻辑**: 如果原始数据中的记录出现在异常数据集中，则 Matched=TRUE，否则 Matched=FALSE"
   ]
  },
  {
   "cell_type": "markdown",
   "id": "08eea81c",
   "metadata": {},
   "source": [
    "# 根据异常数据集更新原始数据的 Matched 字段"
   ]
  },
  {
   "cell_type": "code",
   "execution_count": 13,
   "id": "bbc0fef7",
   "metadata": {},
   "outputs": [
    {
     "name": "stdout",
     "output_type": "stream",
     "text": [
      "加载数据文件...\n",
      "原始数据文件: ../data_new/a_marked.csv\n",
      "异常数据文件: ../data_new/副本筛选后数据（带标记规则代码）.csv\n"
     ]
    },
    {
     "name": "stderr",
     "output_type": "stream",
     "text": [
      "/tmp/ipykernel_117929/12788415.py:13: DtypeWarning: Columns (7,18,19,55) have mixed types. Specify dtype option on import or set low_memory=False.\n",
      "  df_all = pd.read_csv(original_data_path)\n"
     ]
    },
    {
     "name": "stdout",
     "output_type": "stream",
     "text": [
      "标记完成，已保存为 a_marked_with_matched.csv\n",
      "\n",
      "Matched 字段统计结果：\n",
      "   Matched  Count\n",
      "0    False  49376\n",
      "1     True   4696\n",
      "\n",
      "异常数据集总记录数：4696\n"
     ]
    }
   ],
   "source": [
    "import pandas as pd\n",
    "import os\n",
    "\n",
    "# 文件路径\n",
    "original_data_path = '../data_new/a_marked.csv'\n",
    "anomaly_data_path = '../data_new/副本筛选后数据（带标记规则代码）.csv'\n",
    "\n",
    "print(\"加载数据文件...\")\n",
    "print(f\"原始数据文件: {original_data_path}\")\n",
    "print(f\"异常数据文件: {anomaly_data_path}\")\n",
    "\n",
    "# 加载数据\n",
    "df_all = pd.read_csv(original_data_path)\n",
    "df_abnormal = pd.read_csv(anomaly_data_path)\n",
    "\n",
    "# === Step 2: 定义用于匹配的关键字段 ===\n",
    "# 请根据你的数据实际情况修改以下字段\n",
    "key_fields = ['CUST_ID','CONF_DATE', 'CONF_SNO']  # 举例，可替换为你实际的主键字段组合\n",
    "\n",
    "df_all['Matched'] = False  # 初始化匹配列\n",
    "\n",
    "# === Step 3: 创建唯一标识列，方便匹配 ===\n",
    "df_all['__key__'] = df_all[key_fields].astype(str).agg('|'.join, axis=1)\n",
    "df_abnormal['__key__'] = df_abnormal[key_fields].astype(str).agg('|'.join, axis=1)\n",
    "\n",
    "# === Step 4: 标记匹配情况 ===\n",
    "df_all['Matched'] = df_all['__key__'].isin(set(df_abnormal['__key__']))\n",
    "\n",
    "# === Step 5: 删除中间列，保存结果 ===\n",
    "df_all.drop(columns='__key__', inplace=True)\n",
    "df_all.to_csv('a_marked_with_matched.csv', index=False)\n",
    "\n",
    "\n",
    "print('标记完成，已保存为 a_marked_with_matched.csv')\n",
    "\n",
    "# === Step 6: Matched 字段统计 ===\n",
    "matched_stats = df_all['Matched'].value_counts().rename_axis('Matched').reset_index(name='Count')\n",
    "print('\\nMatched 字段统计结果：')\n",
    "print(matched_stats)\n",
    "\n",
    "print(f\"\\n异常数据集总记录数：{len(df_abnormal)}\")"
   ]
  }
 ],
 "metadata": {
  "kernelspec": {
   "display_name": "ziguan",
   "language": "python",
   "name": "python3"
  },
  "language_info": {
   "codemirror_mode": {
    "name": "ipython",
    "version": 3
   },
   "file_extension": ".py",
   "mimetype": "text/x-python",
   "name": "python",
   "nbconvert_exporter": "python",
   "pygments_lexer": "ipython3",
   "version": "3.10.16"
  }
 },
 "nbformat": 4,
 "nbformat_minor": 5
}
